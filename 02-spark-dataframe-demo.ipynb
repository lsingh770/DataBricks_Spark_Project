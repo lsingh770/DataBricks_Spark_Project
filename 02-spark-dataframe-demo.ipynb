{
 "cells": [
  {
   "cell_type": "code",
   "execution_count": 0,
   "metadata": {
    "application/vnd.databricks.v1+cell": {
     "cellMetadata": {
      "byteLimit": 2048000,
      "rowLimit": 10000
     },
     "inputWidgets": {},
     "nuid": "c365a367-3c50-4a86-b166-6f0a085d2401",
     "showTitle": false,
     "tableResultSettingsMap": {},
     "title": ""
    }
   },
   "outputs": [],
   "source": [
    "fire_df = (spark.read\n",
    "           .format(\"csv\")\n",
    "           .option(\"header\", \"true\")\n",
    "           .option(\"inferSchema\", \"true\")\n",
    "           .load(\"/databricks-datasets/learning-spark-v2/sf-fire/sf-fire-calls.csv\"))"
   ]
  },
  {
   "cell_type": "code",
   "execution_count": 0,
   "metadata": {
    "application/vnd.databricks.v1+cell": {
     "cellMetadata": {
      "byteLimit": 2048000,
      "rowLimit": 10000
     },
     "inputWidgets": {},
     "nuid": "54eba3db-12f5-4466-9f32-46dcb0368624",
     "showTitle": false,
     "tableResultSettingsMap": {},
     "title": ""
    }
   },
   "outputs": [
    {
     "output_type": "stream",
     "name": "stdout",
     "output_type": "stream",
     "text": [
      "+-----------+-------+---------------+----------------+----------+----------+----------------------+--------------------+--------------------+----+-------------------+---------+------------+----+------------+--------+--------------+--------+---------------+---------+------------+------------------------------+------------------------+-------------------+---------------+--------------------+-------------+------------------+\n|Call Number|Unit ID|Incident Number|        CallType| Call Date|Watch Date|Call Final Disposition|      Available DtTm|             Address|City|Zipcode of Incident|Battalion|Station Area| Box|OrigPriority|Priority|Final Priority|ALS Unit|Call Type Group|NumAlarms|    UnitType|Unit sequence in call dispatch|Fire Prevention District|Supervisor District|   Neighborhood|            Location|        RowID|             Delay|\n+-----------+-------+---------------+----------------+----------+----------+----------------------+--------------------+--------------------+----+-------------------+---------+------------+----+------------+--------+--------------+--------+---------------+---------+------------+------------------------------+------------------------+-------------------+---------------+--------------------+-------------+------------------+\n|   20110014|    M29|        2003234|Medical Incident|2002-01-11|2002-01-10|                 Other|01/11/2002 01:58:...|   10TH ST/MARKET ST|  SF|              94103|      B02|          36|2338|           1|       1|             2|    true|           null|        1|       MEDIC|                             1|                       2|                  6|     Tenderloin|(37.7765408927183...|020110014-M29| 5.233333333333333|\n|   20110015|    M08|        2003233|Medical Incident|2002-01-11|2002-01-10|                 Other|01/11/2002 02:10:...| 300 Block of 5TH ST|  SF|              94107|      B03|          08|2243|           1|       1|             2|    true|           null|        1|       MEDIC|                             1|                       3|                  6|South of Market|(37.7792841462441...|020110015-M08|3.0833333333333335|\n|   20110016|    B02|        2003235|  Structure Fire|2002-01-11|2002-01-10|                 Other|01/11/2002 01:47:...|2000 Block of CAL...|  SF|              94109|      B04|          38|3362|           3|       3|             3|   false|           null|        1|       CHIEF|                             6|                       4|                  5|Pacific Heights|(37.7895840679362...|020110016-B02|              3.05|\n|   20110016|    B04|        2003235|  Structure Fire|2002-01-11|2002-01-10|                 Other|01/11/2002 01:51:...|2000 Block of CAL...|  SF|              94109|      B04|          38|3362|           3|       3|             3|   false|           null|        1|       CHIEF|                             3|                       4|                  5|Pacific Heights|(37.7895840679362...|020110016-B04| 2.316666666666667|\n|   20110016|     D2|        2003235|  Structure Fire|2002-01-11|2002-01-10|                 Other|01/11/2002 01:47:...|2000 Block of CAL...|  SF|              94109|      B04|          38|3362|           3|       3|             3|   false|           null|        1|       CHIEF|                             4|                       4|                  5|Pacific Heights|(37.7895840679362...| 020110016-D2|3.0166666666666666|\n|   20110016|    E03|        2003235|  Structure Fire|2002-01-11|2002-01-10|                 Other|01/11/2002 01:47:...|2000 Block of CAL...|  SF|              94109|      B04|          38|3362|           3|       3|             3|   false|           null|        1|      ENGINE|                             7|                       4|                  5|Pacific Heights|(37.7895840679362...|020110016-E03| 2.683333333333333|\n|   20110016|    E38|        2003235|  Structure Fire|2002-01-11|2002-01-10|                 Other|01/11/2002 01:51:...|2000 Block of CAL...|  SF|              94109|      B04|          38|3362|           3|       3|             3|   false|           null|        1|      ENGINE|                             1|                       4|                  5|Pacific Heights|(37.7895840679362...|020110016-E38|               2.1|\n|   20110016|    E41|        2003235|  Structure Fire|2002-01-11|2002-01-10|                 Other|01/11/2002 01:47:...|2000 Block of CAL...|  SF|              94109|      B04|          38|3362|           3|       3|             3|   false|           null|        1|      ENGINE|                             8|                       4|                  5|Pacific Heights|(37.7895840679362...|020110016-E41| 2.716666666666667|\n|   20110016|    M03|        2003235|  Structure Fire|2002-01-11|2002-01-10|                 Other|01/11/2002 01:46:...|2000 Block of CAL...|  SF|              94109|      B04|          38|3362|           3|       3|             3|    true|           null|        1|       MEDIC|                            10|                       4|                  5|Pacific Heights|(37.7895840679362...|020110016-M03|2.7666666666666666|\n|   20110016|    RS1|        2003235|  Structure Fire|2002-01-11|2002-01-10|                 Other|01/11/2002 01:46:...|2000 Block of CAL...|  SF|              94109|      B04|          38|3362|           3|       3|             3|   false|           null|        1|RESCUE SQUAD|                             9|                       4|                  5|Pacific Heights|(37.7895840679362...|020110016-RS1|3.2666666666666666|\n+-----------+-------+---------------+----------------+----------+----------+----------------------+--------------------+--------------------+----+-------------------+---------+------------+----+------------+--------+--------------+--------+---------------+---------+------------+------------------------------+------------------------+-------------------+---------------+--------------------+-------------+------------------+\nonly showing top 10 rows\n\n"
     ]
    }
   ],
   "source": [
    "fire_df.show(10)"
   ]
  },
  {
   "cell_type": "code",
   "execution_count": 0,
   "metadata": {
    "application/vnd.databricks.v1+cell": {
     "cellMetadata": {
      "byteLimit": 2048000,
      "rowLimit": 10000
     },
     "inputWidgets": {},
     "nuid": "3efb3308-e610-48a7-a75f-a09f3a0ebdcd",
     "showTitle": false,
     "tableResultSettingsMap": {},
     "title": ""
    }
   },
   "outputs": [
    {
     "output_type": "display_data",
     "data": {
      "text/html": [
       "<style scoped>\n",
       "  .table-result-container {\n",
       "    max-height: 300px;\n",
       "    overflow: auto;\n",
       "  }\n",
       "  table, th, td {\n",
       "    border: 1px solid black;\n",
       "    border-collapse: collapse;\n",
       "  }\n",
       "  th, td {\n",
       "    padding: 5px;\n",
       "  }\n",
       "  th {\n",
       "    text-align: left;\n",
       "  }\n",
       "</style><div class='table-result-container'><table class='table-result'><thead style='background-color: white'><tr><th>Call Number</th><th>Unit ID</th><th>Incident Number</th><th>CallType</th><th>Call Date</th><th>Watch Date</th><th>Call Final Disposition</th><th>Available DtTm</th><th>Address</th><th>City</th><th>Zipcode of Incident</th><th>Battalion</th><th>Station Area</th><th>Box</th><th>OrigPriority</th><th>Priority</th><th>Final Priority</th><th>ALS Unit</th><th>Call Type Group</th><th>NumAlarms</th><th>UnitType</th><th>Unit sequence in call dispatch</th><th>Fire Prevention District</th><th>Supervisor District</th><th>Neighborhood</th><th>Location</th><th>RowID</th><th>Delay</th></tr></thead><tbody><tr><td>20110014</td><td>M29</td><td>2003234</td><td>Medical Incident</td><td>2002-01-11</td><td>2002-01-10</td><td>Other</td><td>01/11/2002 01:58:43 AM</td><td>10TH ST/MARKET ST</td><td>SF</td><td>94103</td><td>B02</td><td>36</td><td>2338</td><td>1</td><td>1</td><td>2</td><td>true</td><td>null</td><td>1</td><td>MEDIC</td><td>1</td><td>2</td><td>6</td><td>Tenderloin</td><td>(37.7765408927183, -122.417501464907)</td><td>020110014-M29</td><td>5.233333333333333</td></tr><tr><td>20110015</td><td>M08</td><td>2003233</td><td>Medical Incident</td><td>2002-01-11</td><td>2002-01-10</td><td>Other</td><td>01/11/2002 02:10:17 AM</td><td>300 Block of 5TH ST</td><td>SF</td><td>94107</td><td>B03</td><td>08</td><td>2243</td><td>1</td><td>1</td><td>2</td><td>true</td><td>null</td><td>1</td><td>MEDIC</td><td>1</td><td>3</td><td>6</td><td>South of Market</td><td>(37.7792841462441, -122.402061300134)</td><td>020110015-M08</td><td>3.0833333333333335</td></tr><tr><td>20110016</td><td>B02</td><td>2003235</td><td>Structure Fire</td><td>2002-01-11</td><td>2002-01-10</td><td>Other</td><td>01/11/2002 01:47:00 AM</td><td>2000 Block of CALIFORNIA ST</td><td>SF</td><td>94109</td><td>B04</td><td>38</td><td>3362</td><td>3</td><td>3</td><td>3</td><td>false</td><td>null</td><td>1</td><td>CHIEF</td><td>6</td><td>4</td><td>5</td><td>Pacific Heights</td><td>(37.7895840679362, -122.428071912459)</td><td>020110016-B02</td><td>3.05</td></tr><tr><td>20110016</td><td>B04</td><td>2003235</td><td>Structure Fire</td><td>2002-01-11</td><td>2002-01-10</td><td>Other</td><td>01/11/2002 01:51:54 AM</td><td>2000 Block of CALIFORNIA ST</td><td>SF</td><td>94109</td><td>B04</td><td>38</td><td>3362</td><td>3</td><td>3</td><td>3</td><td>false</td><td>null</td><td>1</td><td>CHIEF</td><td>3</td><td>4</td><td>5</td><td>Pacific Heights</td><td>(37.7895840679362, -122.428071912459)</td><td>020110016-B04</td><td>2.316666666666667</td></tr><tr><td>20110016</td><td>D2</td><td>2003235</td><td>Structure Fire</td><td>2002-01-11</td><td>2002-01-10</td><td>Other</td><td>01/11/2002 01:47:00 AM</td><td>2000 Block of CALIFORNIA ST</td><td>SF</td><td>94109</td><td>B04</td><td>38</td><td>3362</td><td>3</td><td>3</td><td>3</td><td>false</td><td>null</td><td>1</td><td>CHIEF</td><td>4</td><td>4</td><td>5</td><td>Pacific Heights</td><td>(37.7895840679362, -122.428071912459)</td><td>020110016-D2</td><td>3.0166666666666666</td></tr><tr><td>20110016</td><td>E03</td><td>2003235</td><td>Structure Fire</td><td>2002-01-11</td><td>2002-01-10</td><td>Other</td><td>01/11/2002 01:47:00 AM</td><td>2000 Block of CALIFORNIA ST</td><td>SF</td><td>94109</td><td>B04</td><td>38</td><td>3362</td><td>3</td><td>3</td><td>3</td><td>false</td><td>null</td><td>1</td><td>ENGINE</td><td>7</td><td>4</td><td>5</td><td>Pacific Heights</td><td>(37.7895840679362, -122.428071912459)</td><td>020110016-E03</td><td>2.683333333333333</td></tr><tr><td>20110016</td><td>E38</td><td>2003235</td><td>Structure Fire</td><td>2002-01-11</td><td>2002-01-10</td><td>Other</td><td>01/11/2002 01:51:17 AM</td><td>2000 Block of CALIFORNIA ST</td><td>SF</td><td>94109</td><td>B04</td><td>38</td><td>3362</td><td>3</td><td>3</td><td>3</td><td>false</td><td>null</td><td>1</td><td>ENGINE</td><td>1</td><td>4</td><td>5</td><td>Pacific Heights</td><td>(37.7895840679362, -122.428071912459)</td><td>020110016-E38</td><td>2.1</td></tr><tr><td>20110016</td><td>E41</td><td>2003235</td><td>Structure Fire</td><td>2002-01-11</td><td>2002-01-10</td><td>Other</td><td>01/11/2002 01:47:00 AM</td><td>2000 Block of CALIFORNIA ST</td><td>SF</td><td>94109</td><td>B04</td><td>38</td><td>3362</td><td>3</td><td>3</td><td>3</td><td>false</td><td>null</td><td>1</td><td>ENGINE</td><td>8</td><td>4</td><td>5</td><td>Pacific Heights</td><td>(37.7895840679362, -122.428071912459)</td><td>020110016-E41</td><td>2.716666666666667</td></tr><tr><td>20110016</td><td>M03</td><td>2003235</td><td>Structure Fire</td><td>2002-01-11</td><td>2002-01-10</td><td>Other</td><td>01/11/2002 01:46:38 AM</td><td>2000 Block of CALIFORNIA ST</td><td>SF</td><td>94109</td><td>B04</td><td>38</td><td>3362</td><td>3</td><td>3</td><td>3</td><td>true</td><td>null</td><td>1</td><td>MEDIC</td><td>10</td><td>4</td><td>5</td><td>Pacific Heights</td><td>(37.7895840679362, -122.428071912459)</td><td>020110016-M03</td><td>2.7666666666666666</td></tr><tr><td>20110016</td><td>RS1</td><td>2003235</td><td>Structure Fire</td><td>2002-01-11</td><td>2002-01-10</td><td>Other</td><td>01/11/2002 01:46:57 AM</td><td>2000 Block of CALIFORNIA ST</td><td>SF</td><td>94109</td><td>B04</td><td>38</td><td>3362</td><td>3</td><td>3</td><td>3</td><td>false</td><td>null</td><td>1</td><td>RESCUE SQUAD</td><td>9</td><td>4</td><td>5</td><td>Pacific Heights</td><td>(37.7895840679362, -122.428071912459)</td><td>020110016-RS1</td><td>3.2666666666666666</td></tr></tbody></table></div>"
      ]
     },
     "metadata": {
      "application/vnd.databricks.v1+output": {
       "addedWidgets": {},
       "aggData": [],
       "aggError": "",
       "aggOverflow": false,
       "aggSchema": [],
       "aggSeriesLimitReached": false,
       "aggType": "",
       "arguments": {},
       "columnCustomDisplayInfos": {},
       "data": [
        [
         20110014,
         "M29",
         2003234,
         "Medical Incident",
         "2002-01-11",
         "2002-01-10",
         "Other",
         "01/11/2002 01:58:43 AM",
         "10TH ST/MARKET ST",
         "SF",
         94103,
         "B02",
         "36",
         "2338",
         "1",
         "1",
         2,
         true,
         null,
         1,
         "MEDIC",
         1,
         "2",
         "6",
         "Tenderloin",
         "(37.7765408927183, -122.417501464907)",
         "020110014-M29",
         5.233333333333333
        ],
        [
         20110015,
         "M08",
         2003233,
         "Medical Incident",
         "2002-01-11",
         "2002-01-10",
         "Other",
         "01/11/2002 02:10:17 AM",
         "300 Block of 5TH ST",
         "SF",
         94107,
         "B03",
         "08",
         "2243",
         "1",
         "1",
         2,
         true,
         null,
         1,
         "MEDIC",
         1,
         "3",
         "6",
         "South of Market",
         "(37.7792841462441, -122.402061300134)",
         "020110015-M08",
         3.0833333333333335
        ],
        [
         20110016,
         "B02",
         2003235,
         "Structure Fire",
         "2002-01-11",
         "2002-01-10",
         "Other",
         "01/11/2002 01:47:00 AM",
         "2000 Block of CALIFORNIA ST",
         "SF",
         94109,
         "B04",
         "38",
         "3362",
         "3",
         "3",
         3,
         false,
         null,
         1,
         "CHIEF",
         6,
         "4",
         "5",
         "Pacific Heights",
         "(37.7895840679362, -122.428071912459)",
         "020110016-B02",
         3.05
        ],
        [
         20110016,
         "B04",
         2003235,
         "Structure Fire",
         "2002-01-11",
         "2002-01-10",
         "Other",
         "01/11/2002 01:51:54 AM",
         "2000 Block of CALIFORNIA ST",
         "SF",
         94109,
         "B04",
         "38",
         "3362",
         "3",
         "3",
         3,
         false,
         null,
         1,
         "CHIEF",
         3,
         "4",
         "5",
         "Pacific Heights",
         "(37.7895840679362, -122.428071912459)",
         "020110016-B04",
         2.316666666666667
        ],
        [
         20110016,
         "D2",
         2003235,
         "Structure Fire",
         "2002-01-11",
         "2002-01-10",
         "Other",
         "01/11/2002 01:47:00 AM",
         "2000 Block of CALIFORNIA ST",
         "SF",
         94109,
         "B04",
         "38",
         "3362",
         "3",
         "3",
         3,
         false,
         null,
         1,
         "CHIEF",
         4,
         "4",
         "5",
         "Pacific Heights",
         "(37.7895840679362, -122.428071912459)",
         "020110016-D2",
         3.0166666666666666
        ],
        [
         20110016,
         "E03",
         2003235,
         "Structure Fire",
         "2002-01-11",
         "2002-01-10",
         "Other",
         "01/11/2002 01:47:00 AM",
         "2000 Block of CALIFORNIA ST",
         "SF",
         94109,
         "B04",
         "38",
         "3362",
         "3",
         "3",
         3,
         false,
         null,
         1,
         "ENGINE",
         7,
         "4",
         "5",
         "Pacific Heights",
         "(37.7895840679362, -122.428071912459)",
         "020110016-E03",
         2.683333333333333
        ],
        [
         20110016,
         "E38",
         2003235,
         "Structure Fire",
         "2002-01-11",
         "2002-01-10",
         "Other",
         "01/11/2002 01:51:17 AM",
         "2000 Block of CALIFORNIA ST",
         "SF",
         94109,
         "B04",
         "38",
         "3362",
         "3",
         "3",
         3,
         false,
         null,
         1,
         "ENGINE",
         1,
         "4",
         "5",
         "Pacific Heights",
         "(37.7895840679362, -122.428071912459)",
         "020110016-E38",
         2.1
        ],
        [
         20110016,
         "E41",
         2003235,
         "Structure Fire",
         "2002-01-11",
         "2002-01-10",
         "Other",
         "01/11/2002 01:47:00 AM",
         "2000 Block of CALIFORNIA ST",
         "SF",
         94109,
         "B04",
         "38",
         "3362",
         "3",
         "3",
         3,
         false,
         null,
         1,
         "ENGINE",
         8,
         "4",
         "5",
         "Pacific Heights",
         "(37.7895840679362, -122.428071912459)",
         "020110016-E41",
         2.716666666666667
        ],
        [
         20110016,
         "M03",
         2003235,
         "Structure Fire",
         "2002-01-11",
         "2002-01-10",
         "Other",
         "01/11/2002 01:46:38 AM",
         "2000 Block of CALIFORNIA ST",
         "SF",
         94109,
         "B04",
         "38",
         "3362",
         "3",
         "3",
         3,
         true,
         null,
         1,
         "MEDIC",
         10,
         "4",
         "5",
         "Pacific Heights",
         "(37.7895840679362, -122.428071912459)",
         "020110016-M03",
         2.7666666666666666
        ],
        [
         20110016,
         "RS1",
         2003235,
         "Structure Fire",
         "2002-01-11",
         "2002-01-10",
         "Other",
         "01/11/2002 01:46:57 AM",
         "2000 Block of CALIFORNIA ST",
         "SF",
         94109,
         "B04",
         "38",
         "3362",
         "3",
         "3",
         3,
         false,
         null,
         1,
         "RESCUE SQUAD",
         9,
         "4",
         "5",
         "Pacific Heights",
         "(37.7895840679362, -122.428071912459)",
         "020110016-RS1",
         3.2666666666666666
        ]
       ],
       "datasetInfos": [],
       "dbfsResultPath": null,
       "isJsonSchema": true,
       "metadata": {},
       "overflow": false,
       "plotOptions": {
        "customPlotOptions": {},
        "displayType": "table",
        "pivotAggregation": null,
        "pivotColumns": null,
        "xColumns": null,
        "yColumns": null
       },
       "removedWidgets": [],
       "schema": [
        {
         "metadata": "{}",
         "name": "Call Number",
         "type": "\"integer\""
        },
        {
         "metadata": "{}",
         "name": "Unit ID",
         "type": "\"string\""
        },
        {
         "metadata": "{}",
         "name": "Incident Number",
         "type": "\"integer\""
        },
        {
         "metadata": "{}",
         "name": "CallType",
         "type": "\"string\""
        },
        {
         "metadata": "{\"__detected_date_formats\":\"M/d/yyyy\"}",
         "name": "Call Date",
         "type": "\"date\""
        },
        {
         "metadata": "{\"__detected_date_formats\":\"M/d/yyyy\"}",
         "name": "Watch Date",
         "type": "\"date\""
        },
        {
         "metadata": "{}",
         "name": "Call Final Disposition",
         "type": "\"string\""
        },
        {
         "metadata": "{}",
         "name": "Available DtTm",
         "type": "\"string\""
        },
        {
         "metadata": "{}",
         "name": "Address",
         "type": "\"string\""
        },
        {
         "metadata": "{}",
         "name": "City",
         "type": "\"string\""
        },
        {
         "metadata": "{}",
         "name": "Zipcode of Incident",
         "type": "\"integer\""
        },
        {
         "metadata": "{}",
         "name": "Battalion",
         "type": "\"string\""
        },
        {
         "metadata": "{}",
         "name": "Station Area",
         "type": "\"string\""
        },
        {
         "metadata": "{}",
         "name": "Box",
         "type": "\"string\""
        },
        {
         "metadata": "{}",
         "name": "OrigPriority",
         "type": "\"string\""
        },
        {
         "metadata": "{}",
         "name": "Priority",
         "type": "\"string\""
        },
        {
         "metadata": "{}",
         "name": "Final Priority",
         "type": "\"integer\""
        },
        {
         "metadata": "{}",
         "name": "ALS Unit",
         "type": "\"boolean\""
        },
        {
         "metadata": "{}",
         "name": "Call Type Group",
         "type": "\"string\""
        },
        {
         "metadata": "{}",
         "name": "NumAlarms",
         "type": "\"integer\""
        },
        {
         "metadata": "{}",
         "name": "UnitType",
         "type": "\"string\""
        },
        {
         "metadata": "{}",
         "name": "Unit sequence in call dispatch",
         "type": "\"integer\""
        },
        {
         "metadata": "{}",
         "name": "Fire Prevention District",
         "type": "\"string\""
        },
        {
         "metadata": "{}",
         "name": "Supervisor District",
         "type": "\"string\""
        },
        {
         "metadata": "{}",
         "name": "Neighborhood",
         "type": "\"string\""
        },
        {
         "metadata": "{}",
         "name": "Location",
         "type": "\"string\""
        },
        {
         "metadata": "{}",
         "name": "RowID",
         "type": "\"string\""
        },
        {
         "metadata": "{}",
         "name": "Delay",
         "type": "\"double\""
        }
       ],
       "type": "table"
      }
     },
     "output_type": "display_data"
    }
   ],
   "source": [
    "fire_df.limit(10).display()"
   ]
  },
  {
   "cell_type": "code",
   "execution_count": 0,
   "metadata": {
    "application/vnd.databricks.v1+cell": {
     "cellMetadata": {
      "byteLimit": 2048000,
      "implicitDf": true,
      "rowLimit": 10000
     },
     "inputWidgets": {},
     "nuid": "c8edc59c-927a-4577-a214-163d12e57f88",
     "showTitle": false,
     "tableResultSettingsMap": {},
     "title": ""
    }
   },
   "outputs": [
    {
     "output_type": "display_data",
     "data": {
      "text/html": [
       "<style scoped>\n",
       "  .table-result-container {\n",
       "    max-height: 300px;\n",
       "    overflow: auto;\n",
       "  }\n",
       "  table, th, td {\n",
       "    border: 1px solid black;\n",
       "    border-collapse: collapse;\n",
       "  }\n",
       "  th, td {\n",
       "    padding: 5px;\n",
       "  }\n",
       "  th {\n",
       "    text-align: left;\n",
       "  }\n",
       "</style><div class='table-result-container'><table class='table-result'><thead style='background-color: white'><tr></tr></thead><tbody></tbody></table></div>"
      ]
     },
     "metadata": {
      "application/vnd.databricks.v1+output": {
       "addedWidgets": {},
       "aggData": [],
       "aggError": "",
       "aggOverflow": false,
       "aggSchema": [],
       "aggSeriesLimitReached": false,
       "aggType": "",
       "arguments": {},
       "columnCustomDisplayInfos": {},
       "data": [],
       "datasetInfos": [],
       "dbfsResultPath": null,
       "isJsonSchema": true,
       "metadata": {},
       "overflow": false,
       "plotOptions": {
        "customPlotOptions": {},
        "displayType": "table",
        "pivotAggregation": null,
        "pivotColumns": null,
        "xColumns": null,
        "yColumns": null
       },
       "removedWidgets": [],
       "schema": [],
       "type": "table"
      }
     },
     "output_type": "display_data"
    }
   ],
   "source": [
    "%sql\n",
    "create database if not exists demo_db"
   ]
  },
  {
   "cell_type": "code",
   "execution_count": 0,
   "metadata": {
    "application/vnd.databricks.v1+cell": {
     "cellMetadata": {
      "byteLimit": 2048000,
      "implicitDf": true,
      "rowLimit": 10000
     },
     "inputWidgets": {},
     "nuid": "8122cef0-abc6-4f90-a0f7-ce2deaa482c2",
     "showTitle": false,
     "tableResultSettingsMap": {},
     "title": ""
    }
   },
   "outputs": [
    {
     "output_type": "display_data",
     "data": {
      "text/html": [
       "<style scoped>\n",
       "  .table-result-container {\n",
       "    max-height: 300px;\n",
       "    overflow: auto;\n",
       "  }\n",
       "  table, th, td {\n",
       "    border: 1px solid black;\n",
       "    border-collapse: collapse;\n",
       "  }\n",
       "  th, td {\n",
       "    padding: 5px;\n",
       "  }\n",
       "  th {\n",
       "    text-align: left;\n",
       "  }\n",
       "</style><div class='table-result-container'><table class='table-result'><thead style='background-color: white'><tr></tr></thead><tbody></tbody></table></div>"
      ]
     },
     "metadata": {
      "application/vnd.databricks.v1+output": {
       "addedWidgets": {},
       "aggData": [],
       "aggError": "",
       "aggOverflow": false,
       "aggSchema": [],
       "aggSeriesLimitReached": false,
       "aggType": "",
       "arguments": {},
       "columnCustomDisplayInfos": {},
       "data": [],
       "datasetInfos": [],
       "dbfsResultPath": null,
       "isJsonSchema": true,
       "metadata": {},
       "overflow": false,
       "plotOptions": {
        "customPlotOptions": {},
        "displayType": "table",
        "pivotAggregation": null,
        "pivotColumns": null,
        "xColumns": null,
        "yColumns": null
       },
       "removedWidgets": [],
       "schema": [],
       "type": "table"
      }
     },
     "output_type": "display_data"
    }
   ],
   "source": [
    "%sql\n",
    "create table if not exists demo_db.fire_service_call_table"
   ]
  },
  {
   "cell_type": "code",
   "execution_count": 0,
   "metadata": {
    "application/vnd.databricks.v1+cell": {
     "cellMetadata": {
      "byteLimit": 2048000,
      "implicitDf": true,
      "rowLimit": 10000
     },
     "inputWidgets": {},
     "nuid": "e1425281-1aa5-4ea7-a49b-2662f3ad46bd",
     "showTitle": false,
     "tableResultSettingsMap": {},
     "title": ""
    }
   },
   "outputs": [],
   "source": [
    "fire_df.createGlobalTempView(\"fire_service_calls_view\")"
   ]
  },
  {
   "cell_type": "code",
   "execution_count": 0,
   "metadata": {
    "application/vnd.databricks.v1+cell": {
     "cellMetadata": {
      "byteLimit": 2048000,
      "implicitDf": true,
      "rowLimit": 10000
     },
     "inputWidgets": {},
     "nuid": "21da9640-5d8b-4ba4-882e-6fc546bbbf37",
     "showTitle": false,
     "tableResultSettingsMap": {},
     "title": ""
    }
   },
   "outputs": [],
   "source": [
    "df = spark.table(\"global_temp.fire_service_calls_view\")"
   ]
  },
  {
   "cell_type": "code",
   "execution_count": 0,
   "metadata": {
    "application/vnd.databricks.v1+cell": {
     "cellMetadata": {
      "byteLimit": 2048000,
      "rowLimit": 10000
     },
     "inputWidgets": {},
     "nuid": "77c646db-c249-4ecc-98b5-7f5e151e5a5e",
     "showTitle": false,
     "tableResultSettingsMap": {},
     "title": ""
    }
   },
   "outputs": [
    {
     "output_type": "stream",
     "name": "stdout",
     "output_type": "stream",
     "text": [
      "Out[25]: ['Call Number',\n 'Unit ID',\n 'Incident Number',\n 'CallType',\n 'Call Date',\n 'Watch Date',\n 'Call Final Disposition',\n 'Available DtTm',\n 'Address',\n 'City',\n 'Zipcode of Incident',\n 'Battalion',\n 'Station Area',\n 'Box',\n 'OrigPriority',\n 'Priority',\n 'Final Priority',\n 'ALS Unit',\n 'Call Type Group',\n 'NumAlarms',\n 'UnitType',\n 'Unit sequence in call dispatch',\n 'Fire Prevention District',\n 'Supervisor District',\n 'Neighborhood',\n 'Location',\n 'RowID',\n 'Delay']"
     ]
    }
   ],
   "source": [
    "spark.table(\"global_temp.fire_service_calls_view\").columns"
   ]
  },
  {
   "cell_type": "code",
   "execution_count": 0,
   "metadata": {
    "application/vnd.databricks.v1+cell": {
     "cellMetadata": {
      "byteLimit": 2048000,
      "rowLimit": 10000
     },
     "inputWidgets": {},
     "nuid": "5748bee5-bc4c-4c99-938f-cd7b2706b4ef",
     "showTitle": false,
     "tableResultSettingsMap": {},
     "title": ""
    }
   },
   "outputs": [],
   "source": [
    "from pyspark.sql.functions import col\n",
    "\n",
    "renamed_df = df.select([col(c).alias(c.replace(\" \", \"_\").replace(\"(\", \"\").replace(\")\", \"\")) for c in df.columns])"
   ]
  },
  {
   "cell_type": "code",
   "execution_count": 0,
   "metadata": {
    "application/vnd.databricks.v1+cell": {
     "cellMetadata": {
      "byteLimit": 2048000,
      "rowLimit": 10000
     },
     "inputWidgets": {},
     "nuid": "f7bafa9b-1e44-4ba1-8a84-334271909a14",
     "showTitle": false,
     "tableResultSettingsMap": {},
     "title": ""
    }
   },
   "outputs": [
    {
     "output_type": "stream",
     "name": "stdout",
     "output_type": "stream",
     "text": [
      "Out[10]: ['Call_Number',\n 'Unit_ID',\n 'Incident_Number',\n 'CallType',\n 'Call_Date',\n 'Watch_Date',\n 'Call_Final_Disposition',\n 'Available_DtTm',\n 'Address',\n 'City',\n 'Zipcode_of_Incident',\n 'Battalion',\n 'Station_Area',\n 'Box',\n 'OrigPriority',\n 'Priority',\n 'Final_Priority',\n 'ALS_Unit',\n 'Call_Type_Group',\n 'NumAlarms',\n 'UnitType',\n 'Unit_sequence_in_call_dispatch',\n 'Fire_Prevention_District',\n 'Supervisor_District',\n 'Neighborhood',\n 'Location',\n 'RowID',\n 'Delay']"
     ]
    }
   ],
   "source": [
    "renamed_df.columns"
   ]
  },
  {
   "cell_type": "code",
   "execution_count": 0,
   "metadata": {
    "application/vnd.databricks.v1+cell": {
     "cellMetadata": {
      "byteLimit": 2048000,
      "rowLimit": 10000
     },
     "inputWidgets": {},
     "nuid": "2ae9c3e3-127c-4427-ada6-0cb2863125bc",
     "showTitle": false,
     "tableResultSettingsMap": {},
     "title": ""
    }
   },
   "outputs": [],
   "source": [
    "renamed_df.createOrReplaceGlobalTempView(\"fire_service_calls_view_cleaned\")"
   ]
  },
  {
   "cell_type": "code",
   "execution_count": 0,
   "metadata": {
    "application/vnd.databricks.v1+cell": {
     "cellMetadata": {
      "byteLimit": 2048000,
      "implicitDf": true,
      "rowLimit": 10000
     },
     "inputWidgets": {},
     "nuid": "dc9bad70-5990-4095-b272-232d43c630f4",
     "showTitle": false,
     "tableResultSettingsMap": {},
     "title": ""
    }
   },
   "outputs": [],
   "source": [
    "renamed_df.write \\\n",
    "  .format(\"delta\") \\\n",
    "  .mode(\"append\") \\\n",
    "  .option(\"mergeSchema\", \"true\") \\\n",
    "  .saveAsTable(\"demo_db.fire_service_call_table\")"
   ]
  },
  {
   "cell_type": "code",
   "execution_count": 0,
   "metadata": {
    "application/vnd.databricks.v1+cell": {
     "cellMetadata": {
      "byteLimit": 2048000,
      "implicitDf": true,
      "rowLimit": 10000
     },
     "inputWidgets": {},
     "nuid": "a7e2925c-a137-47e9-8748-dbb5a14b60cd",
     "showTitle": false,
     "tableResultSettingsMap": {},
     "title": ""
    }
   },
   "outputs": [
    {
     "output_type": "display_data",
     "data": {
      "text/html": [
       "<style scoped>\n",
       "  .table-result-container {\n",
       "    max-height: 300px;\n",
       "    overflow: auto;\n",
       "  }\n",
       "  table, th, td {\n",
       "    border: 1px solid black;\n",
       "    border-collapse: collapse;\n",
       "  }\n",
       "  th, td {\n",
       "    padding: 5px;\n",
       "  }\n",
       "  th {\n",
       "    text-align: left;\n",
       "  }\n",
       "</style><div class='table-result-container'><table class='table-result'><thead style='background-color: white'><tr><th>Call_Number</th><th>Unit_ID</th><th>Incident_Number</th><th>CallType</th><th>Call_Date</th><th>Watch_Date</th><th>Call_Final_Disposition</th><th>Available_DtTm</th><th>Address</th><th>City</th><th>Zipcode_of_Incident</th><th>Battalion</th><th>Station_Area</th><th>Box</th><th>OrigPriority</th><th>Priority</th><th>Final_Priority</th><th>ALS_Unit</th><th>Call_Type_Group</th><th>NumAlarms</th><th>UnitType</th><th>Unit_sequence_in_call_dispatch</th><th>Fire_Prevention_District</th><th>Supervisor_District</th><th>Neighborhood</th><th>Location</th><th>RowID</th><th>Delay</th></tr></thead><tbody><tr><td>20110014</td><td>M29</td><td>2003234</td><td>Medical Incident</td><td>2002-01-11</td><td>2002-01-10</td><td>Other</td><td>01/11/2002 01:58:43 AM</td><td>10TH ST/MARKET ST</td><td>SF</td><td>94103</td><td>B02</td><td>36</td><td>2338</td><td>1</td><td>1</td><td>2</td><td>true</td><td>null</td><td>1</td><td>MEDIC</td><td>1</td><td>2</td><td>6</td><td>Tenderloin</td><td>(37.7765408927183, -122.417501464907)</td><td>020110014-M29</td><td>5.233333333333333</td></tr><tr><td>20110015</td><td>M08</td><td>2003233</td><td>Medical Incident</td><td>2002-01-11</td><td>2002-01-10</td><td>Other</td><td>01/11/2002 02:10:17 AM</td><td>300 Block of 5TH ST</td><td>SF</td><td>94107</td><td>B03</td><td>08</td><td>2243</td><td>1</td><td>1</td><td>2</td><td>true</td><td>null</td><td>1</td><td>MEDIC</td><td>1</td><td>3</td><td>6</td><td>South of Market</td><td>(37.7792841462441, -122.402061300134)</td><td>020110015-M08</td><td>3.0833333333333335</td></tr><tr><td>20110016</td><td>B02</td><td>2003235</td><td>Structure Fire</td><td>2002-01-11</td><td>2002-01-10</td><td>Other</td><td>01/11/2002 01:47:00 AM</td><td>2000 Block of CALIFORNIA ST</td><td>SF</td><td>94109</td><td>B04</td><td>38</td><td>3362</td><td>3</td><td>3</td><td>3</td><td>false</td><td>null</td><td>1</td><td>CHIEF</td><td>6</td><td>4</td><td>5</td><td>Pacific Heights</td><td>(37.7895840679362, -122.428071912459)</td><td>020110016-B02</td><td>3.05</td></tr><tr><td>20110016</td><td>B04</td><td>2003235</td><td>Structure Fire</td><td>2002-01-11</td><td>2002-01-10</td><td>Other</td><td>01/11/2002 01:51:54 AM</td><td>2000 Block of CALIFORNIA ST</td><td>SF</td><td>94109</td><td>B04</td><td>38</td><td>3362</td><td>3</td><td>3</td><td>3</td><td>false</td><td>null</td><td>1</td><td>CHIEF</td><td>3</td><td>4</td><td>5</td><td>Pacific Heights</td><td>(37.7895840679362, -122.428071912459)</td><td>020110016-B04</td><td>2.316666666666667</td></tr><tr><td>20110016</td><td>D2</td><td>2003235</td><td>Structure Fire</td><td>2002-01-11</td><td>2002-01-10</td><td>Other</td><td>01/11/2002 01:47:00 AM</td><td>2000 Block of CALIFORNIA ST</td><td>SF</td><td>94109</td><td>B04</td><td>38</td><td>3362</td><td>3</td><td>3</td><td>3</td><td>false</td><td>null</td><td>1</td><td>CHIEF</td><td>4</td><td>4</td><td>5</td><td>Pacific Heights</td><td>(37.7895840679362, -122.428071912459)</td><td>020110016-D2</td><td>3.0166666666666666</td></tr><tr><td>20110016</td><td>E03</td><td>2003235</td><td>Structure Fire</td><td>2002-01-11</td><td>2002-01-10</td><td>Other</td><td>01/11/2002 01:47:00 AM</td><td>2000 Block of CALIFORNIA ST</td><td>SF</td><td>94109</td><td>B04</td><td>38</td><td>3362</td><td>3</td><td>3</td><td>3</td><td>false</td><td>null</td><td>1</td><td>ENGINE</td><td>7</td><td>4</td><td>5</td><td>Pacific Heights</td><td>(37.7895840679362, -122.428071912459)</td><td>020110016-E03</td><td>2.683333333333333</td></tr><tr><td>20110016</td><td>E38</td><td>2003235</td><td>Structure Fire</td><td>2002-01-11</td><td>2002-01-10</td><td>Other</td><td>01/11/2002 01:51:17 AM</td><td>2000 Block of CALIFORNIA ST</td><td>SF</td><td>94109</td><td>B04</td><td>38</td><td>3362</td><td>3</td><td>3</td><td>3</td><td>false</td><td>null</td><td>1</td><td>ENGINE</td><td>1</td><td>4</td><td>5</td><td>Pacific Heights</td><td>(37.7895840679362, -122.428071912459)</td><td>020110016-E38</td><td>2.1</td></tr><tr><td>20110016</td><td>E41</td><td>2003235</td><td>Structure Fire</td><td>2002-01-11</td><td>2002-01-10</td><td>Other</td><td>01/11/2002 01:47:00 AM</td><td>2000 Block of CALIFORNIA ST</td><td>SF</td><td>94109</td><td>B04</td><td>38</td><td>3362</td><td>3</td><td>3</td><td>3</td><td>false</td><td>null</td><td>1</td><td>ENGINE</td><td>8</td><td>4</td><td>5</td><td>Pacific Heights</td><td>(37.7895840679362, -122.428071912459)</td><td>020110016-E41</td><td>2.716666666666667</td></tr><tr><td>20110016</td><td>M03</td><td>2003235</td><td>Structure Fire</td><td>2002-01-11</td><td>2002-01-10</td><td>Other</td><td>01/11/2002 01:46:38 AM</td><td>2000 Block of CALIFORNIA ST</td><td>SF</td><td>94109</td><td>B04</td><td>38</td><td>3362</td><td>3</td><td>3</td><td>3</td><td>true</td><td>null</td><td>1</td><td>MEDIC</td><td>10</td><td>4</td><td>5</td><td>Pacific Heights</td><td>(37.7895840679362, -122.428071912459)</td><td>020110016-M03</td><td>2.7666666666666666</td></tr><tr><td>20110016</td><td>RS1</td><td>2003235</td><td>Structure Fire</td><td>2002-01-11</td><td>2002-01-10</td><td>Other</td><td>01/11/2002 01:46:57 AM</td><td>2000 Block of CALIFORNIA ST</td><td>SF</td><td>94109</td><td>B04</td><td>38</td><td>3362</td><td>3</td><td>3</td><td>3</td><td>false</td><td>null</td><td>1</td><td>RESCUE SQUAD</td><td>9</td><td>4</td><td>5</td><td>Pacific Heights</td><td>(37.7895840679362, -122.428071912459)</td><td>020110016-RS1</td><td>3.2666666666666666</td></tr></tbody></table></div>"
      ]
     },
     "metadata": {
      "application/vnd.databricks.v1+output": {
       "addedWidgets": {},
       "aggData": [],
       "aggError": "",
       "aggOverflow": false,
       "aggSchema": [],
       "aggSeriesLimitReached": false,
       "aggType": "",
       "arguments": {},
       "columnCustomDisplayInfos": {},
       "data": [
        [
         20110014,
         "M29",
         2003234,
         "Medical Incident",
         "2002-01-11",
         "2002-01-10",
         "Other",
         "01/11/2002 01:58:43 AM",
         "10TH ST/MARKET ST",
         "SF",
         94103,
         "B02",
         "36",
         "2338",
         "1",
         "1",
         2,
         true,
         null,
         1,
         "MEDIC",
         1,
         "2",
         "6",
         "Tenderloin",
         "(37.7765408927183, -122.417501464907)",
         "020110014-M29",
         5.233333333333333
        ],
        [
         20110015,
         "M08",
         2003233,
         "Medical Incident",
         "2002-01-11",
         "2002-01-10",
         "Other",
         "01/11/2002 02:10:17 AM",
         "300 Block of 5TH ST",
         "SF",
         94107,
         "B03",
         "08",
         "2243",
         "1",
         "1",
         2,
         true,
         null,
         1,
         "MEDIC",
         1,
         "3",
         "6",
         "South of Market",
         "(37.7792841462441, -122.402061300134)",
         "020110015-M08",
         3.0833333333333335
        ],
        [
         20110016,
         "B02",
         2003235,
         "Structure Fire",
         "2002-01-11",
         "2002-01-10",
         "Other",
         "01/11/2002 01:47:00 AM",
         "2000 Block of CALIFORNIA ST",
         "SF",
         94109,
         "B04",
         "38",
         "3362",
         "3",
         "3",
         3,
         false,
         null,
         1,
         "CHIEF",
         6,
         "4",
         "5",
         "Pacific Heights",
         "(37.7895840679362, -122.428071912459)",
         "020110016-B02",
         3.05
        ],
        [
         20110016,
         "B04",
         2003235,
         "Structure Fire",
         "2002-01-11",
         "2002-01-10",
         "Other",
         "01/11/2002 01:51:54 AM",
         "2000 Block of CALIFORNIA ST",
         "SF",
         94109,
         "B04",
         "38",
         "3362",
         "3",
         "3",
         3,
         false,
         null,
         1,
         "CHIEF",
         3,
         "4",
         "5",
         "Pacific Heights",
         "(37.7895840679362, -122.428071912459)",
         "020110016-B04",
         2.316666666666667
        ],
        [
         20110016,
         "D2",
         2003235,
         "Structure Fire",
         "2002-01-11",
         "2002-01-10",
         "Other",
         "01/11/2002 01:47:00 AM",
         "2000 Block of CALIFORNIA ST",
         "SF",
         94109,
         "B04",
         "38",
         "3362",
         "3",
         "3",
         3,
         false,
         null,
         1,
         "CHIEF",
         4,
         "4",
         "5",
         "Pacific Heights",
         "(37.7895840679362, -122.428071912459)",
         "020110016-D2",
         3.0166666666666666
        ],
        [
         20110016,
         "E03",
         2003235,
         "Structure Fire",
         "2002-01-11",
         "2002-01-10",
         "Other",
         "01/11/2002 01:47:00 AM",
         "2000 Block of CALIFORNIA ST",
         "SF",
         94109,
         "B04",
         "38",
         "3362",
         "3",
         "3",
         3,
         false,
         null,
         1,
         "ENGINE",
         7,
         "4",
         "5",
         "Pacific Heights",
         "(37.7895840679362, -122.428071912459)",
         "020110016-E03",
         2.683333333333333
        ],
        [
         20110016,
         "E38",
         2003235,
         "Structure Fire",
         "2002-01-11",
         "2002-01-10",
         "Other",
         "01/11/2002 01:51:17 AM",
         "2000 Block of CALIFORNIA ST",
         "SF",
         94109,
         "B04",
         "38",
         "3362",
         "3",
         "3",
         3,
         false,
         null,
         1,
         "ENGINE",
         1,
         "4",
         "5",
         "Pacific Heights",
         "(37.7895840679362, -122.428071912459)",
         "020110016-E38",
         2.1
        ],
        [
         20110016,
         "E41",
         2003235,
         "Structure Fire",
         "2002-01-11",
         "2002-01-10",
         "Other",
         "01/11/2002 01:47:00 AM",
         "2000 Block of CALIFORNIA ST",
         "SF",
         94109,
         "B04",
         "38",
         "3362",
         "3",
         "3",
         3,
         false,
         null,
         1,
         "ENGINE",
         8,
         "4",
         "5",
         "Pacific Heights",
         "(37.7895840679362, -122.428071912459)",
         "020110016-E41",
         2.716666666666667
        ],
        [
         20110016,
         "M03",
         2003235,
         "Structure Fire",
         "2002-01-11",
         "2002-01-10",
         "Other",
         "01/11/2002 01:46:38 AM",
         "2000 Block of CALIFORNIA ST",
         "SF",
         94109,
         "B04",
         "38",
         "3362",
         "3",
         "3",
         3,
         true,
         null,
         1,
         "MEDIC",
         10,
         "4",
         "5",
         "Pacific Heights",
         "(37.7895840679362, -122.428071912459)",
         "020110016-M03",
         2.7666666666666666
        ],
        [
         20110016,
         "RS1",
         2003235,
         "Structure Fire",
         "2002-01-11",
         "2002-01-10",
         "Other",
         "01/11/2002 01:46:57 AM",
         "2000 Block of CALIFORNIA ST",
         "SF",
         94109,
         "B04",
         "38",
         "3362",
         "3",
         "3",
         3,
         false,
         null,
         1,
         "RESCUE SQUAD",
         9,
         "4",
         "5",
         "Pacific Heights",
         "(37.7895840679362, -122.428071912459)",
         "020110016-RS1",
         3.2666666666666666
        ]
       ],
       "datasetInfos": [],
       "dbfsResultPath": null,
       "isJsonSchema": true,
       "metadata": {},
       "overflow": false,
       "plotOptions": {
        "customPlotOptions": {},
        "displayType": "table",
        "pivotAggregation": null,
        "pivotColumns": null,
        "xColumns": null,
        "yColumns": null
       },
       "removedWidgets": [],
       "schema": [
        {
         "metadata": "{}",
         "name": "Call_Number",
         "type": "\"integer\""
        },
        {
         "metadata": "{}",
         "name": "Unit_ID",
         "type": "\"string\""
        },
        {
         "metadata": "{}",
         "name": "Incident_Number",
         "type": "\"integer\""
        },
        {
         "metadata": "{}",
         "name": "CallType",
         "type": "\"string\""
        },
        {
         "metadata": "{\"__detected_date_formats\":\"M/d/yyyy\"}",
         "name": "Call_Date",
         "type": "\"date\""
        },
        {
         "metadata": "{\"__detected_date_formats\":\"M/d/yyyy\"}",
         "name": "Watch_Date",
         "type": "\"date\""
        },
        {
         "metadata": "{}",
         "name": "Call_Final_Disposition",
         "type": "\"string\""
        },
        {
         "metadata": "{}",
         "name": "Available_DtTm",
         "type": "\"string\""
        },
        {
         "metadata": "{}",
         "name": "Address",
         "type": "\"string\""
        },
        {
         "metadata": "{}",
         "name": "City",
         "type": "\"string\""
        },
        {
         "metadata": "{}",
         "name": "Zipcode_of_Incident",
         "type": "\"integer\""
        },
        {
         "metadata": "{}",
         "name": "Battalion",
         "type": "\"string\""
        },
        {
         "metadata": "{}",
         "name": "Station_Area",
         "type": "\"string\""
        },
        {
         "metadata": "{}",
         "name": "Box",
         "type": "\"string\""
        },
        {
         "metadata": "{}",
         "name": "OrigPriority",
         "type": "\"string\""
        },
        {
         "metadata": "{}",
         "name": "Priority",
         "type": "\"string\""
        },
        {
         "metadata": "{}",
         "name": "Final_Priority",
         "type": "\"integer\""
        },
        {
         "metadata": "{}",
         "name": "ALS_Unit",
         "type": "\"boolean\""
        },
        {
         "metadata": "{}",
         "name": "Call_Type_Group",
         "type": "\"string\""
        },
        {
         "metadata": "{}",
         "name": "NumAlarms",
         "type": "\"integer\""
        },
        {
         "metadata": "{}",
         "name": "UnitType",
         "type": "\"string\""
        },
        {
         "metadata": "{}",
         "name": "Unit_sequence_in_call_dispatch",
         "type": "\"integer\""
        },
        {
         "metadata": "{}",
         "name": "Fire_Prevention_District",
         "type": "\"string\""
        },
        {
         "metadata": "{}",
         "name": "Supervisor_District",
         "type": "\"string\""
        },
        {
         "metadata": "{}",
         "name": "Neighborhood",
         "type": "\"string\""
        },
        {
         "metadata": "{}",
         "name": "Location",
         "type": "\"string\""
        },
        {
         "metadata": "{}",
         "name": "RowID",
         "type": "\"string\""
        },
        {
         "metadata": "{}",
         "name": "Delay",
         "type": "\"double\""
        }
       ],
       "type": "table"
      }
     },
     "output_type": "display_data"
    }
   ],
   "source": [
    "%sql\n",
    "select * from demo_db.fire_service_call_table limit 10;"
   ]
  },
  {
   "cell_type": "code",
   "execution_count": 0,
   "metadata": {
    "application/vnd.databricks.v1+cell": {
     "cellMetadata": {
      "byteLimit": 2048000,
      "implicitDf": true,
      "rowLimit": 10000
     },
     "inputWidgets": {},
     "nuid": "01658c7c-e4be-44a9-be2e-6b2a28dc9657",
     "showTitle": false,
     "tableResultSettingsMap": {},
     "title": ""
    }
   },
   "outputs": [
    {
     "output_type": "display_data",
     "data": {
      "text/html": [
       "<style scoped>\n",
       "  .table-result-container {\n",
       "    max-height: 300px;\n",
       "    overflow: auto;\n",
       "  }\n",
       "  table, th, td {\n",
       "    border: 1px solid black;\n",
       "    border-collapse: collapse;\n",
       "  }\n",
       "  th, td {\n",
       "    padding: 5px;\n",
       "  }\n",
       "  th {\n",
       "    text-align: left;\n",
       "  }\n",
       "</style><div class='table-result-container'><table class='table-result'><thead style='background-color: white'><tr><th>callType</th><th>call_date</th><th>count(station_area)</th></tr></thead><tbody><tr><td>Citizen Assist / Service Call</td><td>2011-04-28</td><td>14</td></tr><tr><td>Odor (Strange / Unknown)</td><td>2011-07-08</td><td>3</td></tr><tr><td>Medical Incident</td><td>2000-05-13</td><td>348</td></tr><tr><td>Citizen Assist / Service Call</td><td>2000-05-25</td><td>12</td></tr><tr><td>Outside Fire</td><td>2000-05-28</td><td>7</td></tr><tr><td>Gas Leak (Natural and LP Gases)</td><td>2000-06-14</td><td>2</td></tr><tr><td>Vehicle Fire</td><td>2000-06-19</td><td>5</td></tr><tr><td>Gas Leak (Natural and LP Gases)</td><td>2000-06-27</td><td>4</td></tr><tr><td>Fuel Spill</td><td>2000-07-19</td><td>1</td></tr><tr><td>Outside Fire</td><td>2000-08-09</td><td>8</td></tr><tr><td>Outside Fire</td><td>2000-09-11</td><td>7</td></tr><tr><td>Vehicle Fire</td><td>2000-09-13</td><td>8</td></tr><tr><td>Other</td><td>2000-11-10</td><td>11</td></tr><tr><td>Citizen Assist / Service Call</td><td>2000-11-11</td><td>14</td></tr><tr><td>Industrial Accidents</td><td>2000-11-27</td><td>3</td></tr><tr><td>Outside Fire</td><td>2000-12-03</td><td>3</td></tr><tr><td>Fuel Spill</td><td>2000-12-12</td><td>1</td></tr><tr><td>Gas Leak (Natural and LP Gases)</td><td>2000-12-15</td><td>1</td></tr><tr><td>Gas Leak (Natural and LP Gases)</td><td>2001-01-13</td><td>2</td></tr><tr><td>Smoke Investigation (Outside)</td><td>2001-01-28</td><td>1</td></tr></tbody></table></div>"
      ]
     },
     "metadata": {
      "application/vnd.databricks.v1+output": {
       "addedWidgets": {},
       "aggData": [],
       "aggError": "",
       "aggOverflow": false,
       "aggSchema": [],
       "aggSeriesLimitReached": false,
       "aggType": "",
       "arguments": {},
       "columnCustomDisplayInfos": {},
       "data": [
        [
         "Citizen Assist / Service Call",
         "2011-04-28",
         14
        ],
        [
         "Odor (Strange / Unknown)",
         "2011-07-08",
         3
        ],
        [
         "Medical Incident",
         "2000-05-13",
         348
        ],
        [
         "Citizen Assist / Service Call",
         "2000-05-25",
         12
        ],
        [
         "Outside Fire",
         "2000-05-28",
         7
        ],
        [
         "Gas Leak (Natural and LP Gases)",
         "2000-06-14",
         2
        ],
        [
         "Vehicle Fire",
         "2000-06-19",
         5
        ],
        [
         "Gas Leak (Natural and LP Gases)",
         "2000-06-27",
         4
        ],
        [
         "Fuel Spill",
         "2000-07-19",
         1
        ],
        [
         "Outside Fire",
         "2000-08-09",
         8
        ],
        [
         "Outside Fire",
         "2000-09-11",
         7
        ],
        [
         "Vehicle Fire",
         "2000-09-13",
         8
        ],
        [
         "Other",
         "2000-11-10",
         11
        ],
        [
         "Citizen Assist / Service Call",
         "2000-11-11",
         14
        ],
        [
         "Industrial Accidents",
         "2000-11-27",
         3
        ],
        [
         "Outside Fire",
         "2000-12-03",
         3
        ],
        [
         "Fuel Spill",
         "2000-12-12",
         1
        ],
        [
         "Gas Leak (Natural and LP Gases)",
         "2000-12-15",
         1
        ],
        [
         "Gas Leak (Natural and LP Gases)",
         "2001-01-13",
         2
        ],
        [
         "Smoke Investigation (Outside)",
         "2001-01-28",
         1
        ]
       ],
       "datasetInfos": [],
       "dbfsResultPath": null,
       "isJsonSchema": true,
       "metadata": {},
       "overflow": false,
       "plotOptions": {
        "customPlotOptions": {},
        "displayType": "table",
        "pivotAggregation": null,
        "pivotColumns": null,
        "xColumns": null,
        "yColumns": null
       },
       "removedWidgets": [],
       "schema": [
        {
         "metadata": "{}",
         "name": "callType",
         "type": "\"string\""
        },
        {
         "metadata": "{\"__detected_date_formats\":\"M/d/yyyy\"}",
         "name": "call_date",
         "type": "\"date\""
        },
        {
         "metadata": "{\"__autoGeneratedAlias\":\"true\"}",
         "name": "count(station_area)",
         "type": "\"long\""
        }
       ],
       "type": "table"
      }
     },
     "output_type": "display_data"
    },
    {
     "output_type": "display_data",
     "data": {
      "text/plain": [
       "Databricks visualization. Run in Databricks to view."
      ]
     },
     "metadata": {
      "application/vnd.databricks.v1.subcommand+json": {
       "baseErrorDetails": null,
       "bindings": {},
       "collapsed": false,
       "command": "%sql WITH q AS (Select callType, call_date, count(station_area) from demo_db.fire_service_call_table group by CallType, Call_Date limit 20) SELECT `callType`,SUM(`count(station_area)`) `column_c035e22764`,`callType` FROM q GROUP BY `callType`",
       "commandTitle": "Visualization 1",
       "commandType": "auto",
       "commandVersion": 0,
       "commentThread": [],
       "commentsVisible": false,
       "contentSha256Hex": null,
       "customPlotOptions": {
        "redashChart": [
         {
          "key": "type",
          "value": "CHART"
         },
         {
          "key": "options",
          "value": {
           "alignYAxesAtZero": true,
           "coefficient": 1,
           "columnConfigurationMap": {
            "series": {
             "column": "callType",
             "id": "column_c035e22766"
            },
            "x": {
             "column": "callType",
             "id": "column_c035e22762"
            },
            "y": [
             {
              "column": "count(station_area)",
              "id": "column_c035e22764",
              "transform": "SUM"
             }
            ]
           },
           "dateTimeFormat": "DD/MM/YYYY HH:mm",
           "direction": {
            "type": "counterclockwise"
           },
           "error_y": {
            "type": "data",
            "visible": true
           },
           "globalSeriesType": "line",
           "isAggregationOn": true,
           "legend": {
            "traceorder": "normal"
           },
           "missingValuesAsZero": true,
           "numberFormat": "0,0.[00000]",
           "percentFormat": "0[.]00%",
           "series": {
            "error_y": {
             "type": "data",
             "visible": true
            },
            "percentValues": false,
            "stacking": null
           },
           "seriesOptions": {
            "column_c035e22764": {
             "type": "line",
             "yAxis": 0
            },
            "column_c035e22768": {
             "type": "line",
             "yAxis": 0
            }
           },
           "showDataLabels": false,
           "sizemode": "diameter",
           "sortX": true,
           "sortY": true,
           "swappedAxes": false,
           "textFormat": "",
           "useAggregationsUi": true,
           "valuesOptions": {},
           "version": 2,
           "xAxis": {
            "labels": {
             "enabled": true
            },
            "type": "-"
           },
           "yAxis": [
            {
             "type": "-"
            },
            {
             "opposite": true,
             "type": "-"
            }
           ]
          }
         }
        ]
       },
       "datasetPreviewNameToCmdIdMap": {},
       "diffDeletes": [],
       "diffInserts": [],
       "displayType": "redashChart",
       "error": null,
       "errorDetails": null,
       "errorSummary": null,
       "errorTraceType": null,
       "finishTime": 0,
       "globalVars": {},
       "guid": "",
       "height": "439",
       "hideCommandCode": false,
       "hideCommandResult": false,
       "iPythonMetadata": null,
       "inputWidgets": {},
       "isLockedInExamMode": false,
       "latestUser": "a user",
       "latestUserId": null,
       "listResultMetadata": null,
       "metadata": {},
       "nuid": "1f78a32c-648b-4043-af89-def2f95fd9ac",
       "origId": 0,
       "parentHierarchy": [],
       "pivotAggregation": null,
       "pivotColumns": null,
       "position": 15.0,
       "resultDbfsErrorMessage": null,
       "resultDbfsStatus": "INLINED_IN_TREE",
       "results": null,
       "showCommandTitle": false,
       "startTime": 0,
       "state": "input",
       "streamStates": {},
       "subcommandOptions": {
        "queryPlan": {
         "groups": [
          {
           "column": "callType",
           "type": "column"
          },
          {
           "column": "callType",
           "type": "column"
          }
         ],
         "selects": [
          {
           "column": "callType",
           "type": "column"
          },
          {
           "alias": "column_c035e22764",
           "args": [
            {
             "column": "count(station_area)",
             "type": "column"
            }
           ],
           "function": "SUM",
           "type": "function"
          },
          {
           "column": "callType",
           "type": "column"
          }
         ]
        }
       },
       "submitTime": 0,
       "subtype": "tableResultSubCmd.visualization",
       "tableResultIndex": 0,
       "tableResultSettingsMap": {},
       "useConsistentColors": false,
       "version": "CommandV1",
       "width": "812",
       "workflows": [],
       "xColumns": null,
       "yColumns": null
      }
     },
     "output_type": "display_data"
    }
   ],
   "source": [
    "%sql\n",
    "Select callType, call_date, count(station_area) from demo_db.fire_service_call_table group by CallType, Call_Date limit 20;"
   ]
  },
  {
   "cell_type": "code",
   "execution_count": 0,
   "metadata": {
    "application/vnd.databricks.v1+cell": {
     "cellMetadata": {},
     "inputWidgets": {},
     "nuid": "fccd5828-4bdc-42e3-9e45-1fc5a421dc66",
     "showTitle": false,
     "tableResultSettingsMap": {},
     "title": ""
    }
   },
   "outputs": [],
   "source": []
  }
 ],
 "metadata": {
  "application/vnd.databricks.v1+notebook": {
   "computePreferences": null,
   "dashboards": [],
   "environmentMetadata": {
    "base_environment": "",
    "environment_version": "1"
   },
   "inputWidgetPreferences": null,
   "language": "python",
   "notebookMetadata": {
    "mostRecentlyExecutedCommandWithImplicitDF": {
     "commandId": 935957488520728,
     "dataframes": [
      "_sqldf"
     ]
    },
    "pythonIndentUnit": 4
   },
   "notebookName": "02-spark-dataframe-demo",
   "widgets": {}
  }
 },
 "nbformat": 4,
 "nbformat_minor": 0
}